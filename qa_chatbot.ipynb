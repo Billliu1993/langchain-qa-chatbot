{
 "cells": [
  {
   "cell_type": "markdown",
   "metadata": {},
   "source": [
    "python==3.10.13  \n",
    "langchain==0.1.6  \n",
    "langchain-community==0.0.19  \n",
    "openai==1.12.0  \n",
    "tiktoken==0.6.0  \n",
    "gradio==3.48.0  \n",
    "chromadb==0.4.22  \n",
    "\n",
    "reference:\n",
    "1. https://www.youtube.com/watch?v=eqRMeCrcelM\n",
    "2. https://www.youtube.com/watch?v=iGZ0cV-SRLI&t=1424s"
   ]
  },
  {
   "cell_type": "code",
   "execution_count": 29,
   "metadata": {},
   "outputs": [],
   "source": [
    "from dotenv import load_dotenv\n",
    "import os\n",
    "import numpy as np"
   ]
  },
  {
   "cell_type": "code",
   "execution_count": 86,
   "metadata": {},
   "outputs": [],
   "source": [
    "from langchain.chains import ConversationalRetrievalChain\n",
    "from langchain.chains.question_answering import load_qa_chain\n",
    "from langchain.document_loaders import DirectoryLoader\n",
    "from langchain.indexes.vectorstore import VectorstoreIndexCreator, VectorStoreIndexWrapper\n",
    "from langchain.embeddings.openai import OpenAIEmbeddings\n",
    "from langchain.vectorstores.chroma import Chroma\n",
    "from langchain.memory import ConversationBufferMemory, ConversationBufferWindowMemory\n",
    "from langchain.prompts import PromptTemplate\n",
    "from langchain.text_splitter import CharacterTextSplitter\n",
    "from langchain.chat_models import ChatOpenAI"
   ]
  },
  {
   "cell_type": "code",
   "execution_count": 2,
   "metadata": {},
   "outputs": [
    {
     "data": {
      "text/plain": [
       "True"
      ]
     },
     "execution_count": 2,
     "metadata": {},
     "output_type": "execute_result"
    }
   ],
   "source": [
    "load_dotenv()"
   ]
  },
  {
   "cell_type": "markdown",
   "metadata": {},
   "source": [
    "### 1. Load the raw file and parse it into proper format"
   ]
  },
  {
   "cell_type": "code",
   "execution_count": 3,
   "metadata": {},
   "outputs": [],
   "source": [
    "file_path = 'raw_doc/knowledge.txt'\n",
    "with open(file_path, 'r') as file:\n",
    "    content = file.read()"
   ]
  },
  {
   "cell_type": "code",
   "execution_count": 18,
   "metadata": {},
   "outputs": [
    {
     "data": {
      "text/plain": [
       "['How do I change my address in the Kora app?',\n",
       " 'Can international students use Kora?',\n",
       " 'How Do I Get in Touch with Kora?',\n",
       " 'App not working? Try closing it and downloading the most recent version.',\n",
       " 'Is Kora available for Android?',\n",
       " 'What is credit and how does it work?']"
      ]
     },
     "execution_count": 18,
     "metadata": {},
     "output_type": "execute_result"
    }
   ],
   "source": [
    "keyword = \"Question\"\n",
    "questions = [line[len(keyword):].strip(\"\\n\") for line in content.split('#') if keyword in line]\n",
    "questions"
   ]
  },
  {
   "cell_type": "code",
   "execution_count": 19,
   "metadata": {},
   "outputs": [
    {
     "data": {
      "text/plain": [
       "['If you entered your address incorrectly or need to update it to a new address, we can help.\\nIn your Kora app, go to “Settings”, click on “Profile”, you should be able to change the address by tapping on “Edit”',\n",
       " \"International students are welcome to use the Kora app and apply for both KoraCash and KoraDrive.\\nAt Kora, we believe all college students should have access to our financial products, with no exceptions. Kora provides loan services for qualified college and university students or recent graduates (graduated within a 3 year period).\\n\\nWhat if I don't have a credit score in the U.S.?\\nIf you're an international student looking to build credit in the U.S. you are eligible to apply for both KoraCash and KoraDrive without prior credit history. Making payments on both can help establish a positive credit history.\\n\\nEven if you do not have a Social Security Number (“SSN”), major credit bureaus will hold onto your payment records reported by Kora. Once you get your SSN, the credit records you previously created (with your Kora loan for example) will be linked to your SSN. Note that you do need an SSN to apply for KoraCash.\",\n",
       " 'Kora uses a ticketing system to help manage the inquiries we receive on a daily basis.\\nWhat is a \"ticketing system\"?\\n\\nBy filling out a quick service request form, a service ticket is created and immediately submitted to our Customer Service Team for review.  This is the fastest way to get in touch with us.\\n\\nHow do I create a ticket?\\n\\nTo create a ticket, simply follow this link and complete the form in its entirety.  Three quick notes:\\n\\n1. Be sure you include your EDU email.  We use this to locate your account.\\n\\n2. Explain the issue in as much detail as possible for quicker support.\\n\\n3. Avoid creating multiple tickets.  Tickets are automatically assigned to the Customer Service Team, but multiple tickets can cause significant delays as multiple people work on the same issue.\\n\\nHow long does it take for the Customer Service Team to reply?\\n\\nWe always reply to all tickets within one business day.  A business day is any day of the week between Monday - Friday.  We are closed on weekends.\\n\\nI created a ticket but never heard back...\\n\\nWe answer every ticket that we receive.  In the even that you do not see an email from us, check your spam folder as many educational institutions filter outside emails.\\n\\nYou can also contact Kora by phone at (800) 840-6604, or by mail at Kora Financial Inc., 500 W. Madison Street, Suite 1000B, Chicago, IL 60661, or by email at support@koramoney.com.  ',\n",
       " 'It\\'s not a glitch in the Matrix—just an issue with updating.\\nThe Kora app updates live. That means within any given day, platform updates, bug fixes, new features and connections—they\\'re all pushed out in real time. On the plus side: this makes Kora super-responsive to user issues. But one drawback is that previous versions of the app sometimes seize.\\n\\nAvoid app issues by making sure you\\'re always using the latest version.\\n\\nIf the app is behaving strangely, or you can\\'t get something to load, go ahead and close out of the app. Then download the very latest version of Kora. Open, and see if this doesn\\'t solve your problem.\\n\\nWe know this seems very \"Did you unplug it and restart?\"—but app updates resolve many frustrations!',\n",
       " \"No, Kora is not currently available for Android users.\\nWe know—it's a bummer! However, we are actively working on optimizing Kora for Android so it will be available in the near future. Look out for future updates!\",\n",
       " \"Putting it all together: Kora and Credit\\n\\nYou’ve learned a lot of new terms and tips, now let’s put them all together.  When you get a loan with Kora, whether it’s KoraCash or KoraDrive, Kora will report your new account to the credit bureaus.  Throughout the life of the loan, Kora will report all payments, whether they are late or on-time.  Finally, once you payoff your loan, Kora will report if your loan was paid off successfully.  If, however, you fail to make payments, Kora will charge-off your account and report it as such to the bureaus.  A charge-off can have a devastating effect on your credit - it’s best to avoid a charge-off at all costs.\\n\\nTimelines\\n\\nNew accounts: Kora will report all new accounts within 2 weeks of an account opening\\nLate payments: Once an account is 30 days late, Kora will report the account as “derogatory” to the bureaus\\nSuccessful payoff: Kora will report all successfully paid off accounts as closed within 2 weeks of an account being paid off\\nCharge-off: Similar to payoffs, Kora reports all charge-off accounts within 2 weeks of the account being closed\\nNote: Charge-off accounts are still required to pay back the amount due\\nOnce Kora reports information to the credit bureaus, it can take anywhere from 30 to 45 days for your credit report to be updated.  This timeline is outside of Kora’s control and dependent on the credit bureaus.\\n\\nSee an issue on your credit report?\\n\\nMistakes may appear on your credit report from time to time.  If you notice something with your credit and it's outside of the timelines described above, you can dispute the issue.  Simply follow this link to complete the credit dispute form.  Note: reporting to one agency will automatically update to all three.\"]"
      ]
     },
     "execution_count": 19,
     "metadata": {},
     "output_type": "execute_result"
    }
   ],
   "source": [
    "keyword = \"Answer\"\n",
    "answers = [line[len(keyword):].strip(\"\\n\") for line in content.split('#') if keyword in line]\n",
    "answers"
   ]
  },
  {
   "cell_type": "code",
   "execution_count": 25,
   "metadata": {},
   "outputs": [],
   "source": [
    "def write_file(question, answer, file_path):\n",
    "\n",
    "    text = f\"\"\"\n",
    "Q: {question}\n",
    "A: {answer}\n",
    "\"\"\".strip()\n",
    "    \n",
    "    with open(file_path, 'w') as text_file:\n",
    "        text_file.write(text)"
   ]
  },
  {
   "cell_type": "code",
   "execution_count": 33,
   "metadata": {},
   "outputs": [],
   "source": [
    "for i in range(len(questions)):\n",
    "\n",
    "    export_file = f'parsed_doc/question_{i}.txt'\n",
    "\n",
    "    write_file(\n",
    "        question=questions[i], \n",
    "        answer=answers[i], \n",
    "        file_path=export_file)"
   ]
  },
  {
   "cell_type": "markdown",
   "metadata": {},
   "source": [
    "### 2. Create vectorDB from the raw Q&A"
   ]
  },
  {
   "cell_type": "code",
   "execution_count": 35,
   "metadata": {},
   "outputs": [
    {
     "data": {
      "text/plain": [
       "6"
      ]
     },
     "execution_count": 35,
     "metadata": {},
     "output_type": "execute_result"
    }
   ],
   "source": [
    "embeddings = OpenAIEmbeddings()\n",
    "loader = DirectoryLoader(\"./parsed_doc/\", glob=\"**/*txt\")\n",
    "documents = loader.load()\n",
    "len(documents)"
   ]
  },
  {
   "cell_type": "code",
   "execution_count": 39,
   "metadata": {},
   "outputs": [
    {
     "data": {
      "text/plain": [
       "Document(page_content='Q: How do I change my address in the Kora app?\\n\\nA: If you entered your address incorrectly or need to update it to a new address, we can help.\\n\\nIn your Kora app, go to “Settings”, click on “Profile”, you should be able to change the address by tapping on “Edit”', metadata={'source': 'parsed_doc\\\\question_0.txt'})"
      ]
     },
     "execution_count": 39,
     "metadata": {},
     "output_type": "execute_result"
    }
   ],
   "source": [
    "text_splitter = CharacterTextSplitter(chunk_size=1000, chunk_overlap=0)\n",
    "texts = text_splitter.split_documents(documents)\n",
    "texts[0]"
   ]
  },
  {
   "cell_type": "code",
   "execution_count": 43,
   "metadata": {},
   "outputs": [],
   "source": [
    "db = Chroma.from_documents(documents=texts, embedding=embeddings)"
   ]
  },
  {
   "cell_type": "code",
   "execution_count": 45,
   "metadata": {},
   "outputs": [
    {
     "data": {
      "text/plain": [
       "[Document(page_content=\"Q: Can international students use Kora? A: International students are welcome to use the Kora app and apply for both KoraCash and KoraDrive. At Kora, we believe all college students should have access to our financial products, with no exceptions. Kora provides loan services for qualified college and university students or recent graduates (graduated within a 3 year period).\\n\\nWhat if I don't have a credit score in the U.S.? If you're an international student looking to build credit in the U.S. you are eligible to apply for both KoraCash and KoraDrive without prior credit history. Making payments on both can help establish a positive credit history.\\n\\nEven if you do not have a Social Security Number (“SSN”), major credit bureaus will hold onto your payment records reported by Kora. Once you get your SSN, the credit records you previously created (with your Kora loan for example) will be linked to your SSN. Note that you do need an SSN to apply for KoraCash.\", metadata={'source': 'parsed_doc\\\\question_1.txt'}),\n",
       " Document(page_content='We always reply to all tickets within one business day. A business day is any day of the week between Monday - Friday. We are closed on weekends.\\n\\nI created a ticket but never heard back...\\n\\nWe answer every ticket that we receive. In the even that you do not see an email from us, check your spam folder as many educational institutions filter outside emails.\\n\\nYou can also contact Kora by phone at (800) 840-6604, or by mail at Kora Financial Inc., 500 W. Madison Street, Suite 1000B, Chicago, IL 60661, or by email at support@koramoney.com.', metadata={'source': 'parsed_doc\\\\question_2.txt'}),\n",
       " Document(page_content='Q: What is credit and how does it work? A: Putting it all together: Kora and Credit\\n\\nYou’ve learned a lot of new terms and tips, now let’s put them all together. When you get a loan with Kora, whether it’s KoraCash or KoraDrive, Kora will report your new account to the credit bureaus. Throughout the life of the loan, Kora will report all payments, whether they are late or on-time. Finally, once you payoff your loan, Kora will report if your loan was paid off successfully. If, however, you fail to make payments, Kora will charge-off your account and report it as such to the bureaus. A charge-off can have a devastating effect on your credit - it’s best to avoid a charge-off at all costs.\\n\\nTimelines', metadata={'source': 'parsed_doc\\\\question_5.txt'}),\n",
       " Document(page_content='Q: How Do I Get in Touch with Kora? A: Kora uses a ticketing system to help manage the inquiries we receive on a daily basis. What is a \"ticketing system\"?\\n\\nBy filling out a quick service request form, a service ticket is created and immediately submitted to our Customer Service Team for review. This is the fastest way to get in touch with us.\\n\\nHow do I create a ticket?\\n\\nTo create a ticket, simply follow this link and complete the form in its entirety. Three quick notes:\\n\\n1. Be sure you include your EDU email. We use this to locate your account.\\n\\n2. Explain the issue in as much detail as possible for quicker support.\\n\\n3. Avoid creating multiple tickets. Tickets are automatically assigned to the Customer Service Team, but multiple tickets can cause significant delays as multiple people work on the same issue.\\n\\nHow long does it take for the Customer Service Team to reply?', metadata={'source': 'parsed_doc\\\\question_2.txt'})]"
      ]
     },
     "execution_count": 45,
     "metadata": {},
     "output_type": "execute_result"
    }
   ],
   "source": [
    "db.similarity_search('international student')"
   ]
  },
  {
   "cell_type": "markdown",
   "metadata": {},
   "source": [
    "### 3. export and reload db\n",
    "say we dont want to re-create vectorDB every single time to save time and cost\n",
    "we could export the vectorDB and load it again"
   ]
  },
  {
   "cell_type": "code",
   "execution_count": 41,
   "metadata": {},
   "outputs": [],
   "source": [
    "local_persist_path = \"./vector_store\"\n",
    "\n",
    "def get_index_path(index_name):\n",
    "    return os.path.join(local_persist_path, index_name)\n",
    "\n",
    "def load_and_save_to_index(loader, index_name):\n",
    "    \n",
    "    # by default, VectorstoreIndexCreator uses openAI API\n",
    "    index = VectorstoreIndexCreator(\n",
    "        vectorstore_kwargs={'persist_directory':get_index_path(index_name)}\n",
    "        ).from_loaders([loader])\n",
    "\n",
    "    # save the vectorDB to avoid regenerating vectors next time\n",
    "    index.vectorstore.persist()\n",
    "\n",
    "# load_and_save_to_index(loader=loader, index_name='test_db')"
   ]
  },
  {
   "cell_type": "code",
   "execution_count": 79,
   "metadata": {},
   "outputs": [],
   "source": [
    "# load the exported vectorDB\n",
    "def load_index(index_name):\n",
    "    index_path = get_index_path(index_name)\n",
    "    # you need to use the same embedding API as in VectorstoreIndexCreators\n",
    "    embedding = OpenAIEmbeddings()\n",
    "    vectordb = Chroma(\n",
    "        persist_directory=index_path,\n",
    "        embedding_function=embedding\n",
    "    )\n",
    "    return vectordb\n",
    "\n",
    "test_db = load_index('test_db')"
   ]
  },
  {
   "cell_type": "code",
   "execution_count": 80,
   "metadata": {},
   "outputs": [
    {
     "data": {
      "text/plain": [
       "[Document(page_content=\"Q: Can international students use Kora? A: International students are welcome to use the Kora app and apply for both KoraCash and KoraDrive. At Kora, we believe all college students should have access to our financial products, with no exceptions. Kora provides loan services for qualified college and university students or recent graduates (graduated within a 3 year period).\\n\\nWhat if I don't have a credit score in the U.S.? If you're an international student looking to build credit in the U.S. you are eligible to apply for both KoraCash and KoraDrive without prior credit history. Making payments on both can help establish a positive credit history.\\n\\nEven if you do not have a Social Security Number (“SSN”), major credit bureaus will hold onto your payment records reported by Kora. Once you get your SSN, the credit records you previously created (with your Kora loan for example) will be linked to your SSN. Note that you do need an SSN to apply for KoraCash.\", metadata={'source': 'parsed_doc\\\\question_1.txt'}),\n",
       " Document(page_content='We always reply to all tickets within one business day. A business day is any day of the week between Monday - Friday. We are closed on weekends.\\n\\nI created a ticket but never heard back...\\n\\nWe answer every ticket that we receive. In the even that you do not see an email from us, check your spam folder as many educational institutions filter outside emails.\\n\\nYou can also contact Kora by phone at (800) 840-6604, or by mail at Kora Financial Inc., 500 W. Madison Street, Suite 1000B, Chicago, IL 60661, or by email at support@koramoney.com.', metadata={'source': 'parsed_doc\\\\question_2.txt'}),\n",
       " Document(page_content='Q: What is credit and how does it work? A: Putting it all together: Kora and Credit\\n\\nYou’ve learned a lot of new terms and tips, now let’s put them all together. When you get a loan with Kora, whether it’s KoraCash or KoraDrive, Kora will report your new account to the credit bureaus. Throughout the life of the loan, Kora will report all payments, whether they are late or on-time. Finally, once you payoff your loan, Kora will report if your loan was paid off successfully. If, however, you fail to make payments, Kora will charge-off your account and report it as such to the bureaus. A charge-off can have a devastating effect on your credit - it’s best to avoid a charge-off at all costs.\\n\\nTimelines', metadata={'source': 'parsed_doc\\\\question_5.txt'}),\n",
       " Document(page_content='Q: How Do I Get in Touch with Kora? A: Kora uses a ticketing system to help manage the inquiries we receive on a daily basis. What is a \"ticketing system\"?\\n\\nBy filling out a quick service request form, a service ticket is created and immediately submitted to our Customer Service Team for review. This is the fastest way to get in touch with us.\\n\\nHow do I create a ticket?\\n\\nTo create a ticket, simply follow this link and complete the form in its entirety. Three quick notes:\\n\\n1. Be sure you include your EDU email. We use this to locate your account.\\n\\n2. Explain the issue in as much detail as possible for quicker support.\\n\\n3. Avoid creating multiple tickets. Tickets are automatically assigned to the Customer Service Team, but multiple tickets can cause significant delays as multiple people work on the same issue.\\n\\nHow long does it take for the Customer Service Team to reply?', metadata={'source': 'parsed_doc\\\\question_2.txt'})]"
      ]
     },
     "execution_count": 80,
     "metadata": {},
     "output_type": "execute_result"
    }
   ],
   "source": [
    "test_db.similarity_search('international student')"
   ]
  },
  {
   "cell_type": "markdown",
   "metadata": {},
   "source": [
    "### 4. Conversational Chain"
   ]
  },
  {
   "cell_type": "code",
   "execution_count": 50,
   "metadata": {},
   "outputs": [],
   "source": [
    "llm = ChatOpenAI(model_name='gpt-3.5-turbo')"
   ]
  },
  {
   "cell_type": "code",
   "execution_count": 83,
   "metadata": {},
   "outputs": [],
   "source": [
    "template = \"\"\"\n",
    "### Instruction: You are a customer support agent at Kora that is talking to a customer. Use only the chat history and the following information\n",
    "{context}\n",
    "to answer in a helpful and precise manner to the question. \n",
    "If you do not know the answer - say that you do not know and ask the customer to fill out the form at the {link}.\n",
    "If the customer thinks your answer not helpful - say sorry and ask the customer to fill out the form at the {link}.\n",
    "If the customer says bye - say good bye and ask the customer to give you a rating\n",
    "Keep your replies short, compassionate and informative.\n",
    "{chat_history}\n",
    "### Input: {question}\n",
    "### Response:\n",
    "\"\"\".strip()"
   ]
  },
  {
   "cell_type": "code",
   "execution_count": 84,
   "metadata": {},
   "outputs": [],
   "source": [
    "prompt = PromptTemplate(\n",
    "    input_variables=['context', 'question', 'chat_history'],\n",
    "    partial_variables={'link': 'link hidden for privacy. replace with your own link'},\n",
    "    template=template\n",
    ")"
   ]
  },
  {
   "cell_type": "code",
   "execution_count": 87,
   "metadata": {},
   "outputs": [],
   "source": [
    "# only look for recent 20 chat history in memory\n",
    "memory = ConversationBufferWindowMemory(\n",
    "    memory_key='chat_history',\n",
    "    human_prefix='### Input',\n",
    "    ai_prefix=\"### Response\",\n",
    "    input_key=\"question\",\n",
    "    output_key=\"output_text\",\n",
    "    return_messages=False,\n",
    "    k=20\n",
    ")\n",
    "\n",
    "# only look for all chat history in memory\n",
    "# memory = ConversationBufferMemory(\n",
    "#     memory_key='chat_history',\n",
    "#     human_prefix='### Input',\n",
    "#     ai_prefix=\"### Response\",\n",
    "#     input_key=\"question\",\n",
    "#     output_key=\"output_text\",\n",
    "#     return_messages=False,\n",
    "# )\n",
    "\n",
    "chain = load_qa_chain(\n",
    "    llm=llm,\n",
    "    chain_type='stuff',\n",
    "    prompt=prompt,\n",
    "    memory=memory,\n",
    "    verbose=True\n",
    ")"
   ]
  },
  {
   "cell_type": "code",
   "execution_count": 88,
   "metadata": {},
   "outputs": [
    {
     "name": "stdout",
     "output_type": "stream",
     "text": [
      "\n",
      "\n",
      "\u001b[1m> Entering new StuffDocumentsChain chain...\u001b[0m\n",
      "\n",
      "\n",
      "\u001b[1m> Entering new LLMChain chain...\u001b[0m\n",
      "Prompt after formatting:\n",
      "\u001b[32;1m\u001b[1;3m### Instruction: You are a customer support agent at Kora that is talking to a customer. Use only the chat history and the following information\n",
      "Q: Can international students use Kora? A: International students are welcome to use the Kora app and apply for both KoraCash and KoraDrive. At Kora, we believe all college students should have access to our financial products, with no exceptions. Kora provides loan services for qualified college and university students or recent graduates (graduated within a 3 year period).\n",
      "\n",
      "What if I don't have a credit score in the U.S.? If you're an international student looking to build credit in the U.S. you are eligible to apply for both KoraCash and KoraDrive without prior credit history. Making payments on both can help establish a positive credit history.\n",
      "\n",
      "Even if you do not have a Social Security Number (“SSN”), major credit bureaus will hold onto your payment records reported by Kora. Once you get your SSN, the credit records you previously created (with your Kora loan for example) will be linked to your SSN. Note that you do need an SSN to apply for KoraCash.\n",
      "\n",
      "Q: App not working? Try closing it and downloading the most recent version. A: It's not a glitch in the Matrix—just an issue with updating. The Kora app updates live. That means within any given day, platform updates, bug fixes, new features and connections—they're all pushed out in real time. On the plus side: this makes Kora super-responsive to user issues. But one drawback is that previous versions of the app sometimes seize.\n",
      "\n",
      "Avoid app issues by making sure you're always using the latest version.\n",
      "\n",
      "If the app is behaving strangely, or you can't get something to load, go ahead and close out of the app. Then download the very latest version of Kora. Open, and see if this doesn't solve your problem.\n",
      "\n",
      "We know this seems very \"Did you unplug it and restart? \"—but app updates resolve many frustrations!\n",
      "\n",
      "Q: How Do I Get in Touch with Kora? A: Kora uses a ticketing system to help manage the inquiries we receive on a daily basis. What is a \"ticketing system\"?\n",
      "\n",
      "By filling out a quick service request form, a service ticket is created and immediately submitted to our Customer Service Team for review. This is the fastest way to get in touch with us.\n",
      "\n",
      "How do I create a ticket?\n",
      "\n",
      "To create a ticket, simply follow this link and complete the form in its entirety. Three quick notes:\n",
      "\n",
      "1. Be sure you include your EDU email. We use this to locate your account.\n",
      "\n",
      "2. Explain the issue in as much detail as possible for quicker support.\n",
      "\n",
      "3. Avoid creating multiple tickets. Tickets are automatically assigned to the Customer Service Team, but multiple tickets can cause significant delays as multiple people work on the same issue.\n",
      "\n",
      "How long does it take for the Customer Service Team to reply?\n",
      "\n",
      "Q: How do I change my address in the Kora app?\n",
      "\n",
      "A: If you entered your address incorrectly or need to update it to a new address, we can help.\n",
      "\n",
      "In your Kora app, go to “Settings”, click on “Profile”, you should be able to change the address by tapping on “Edit”\n",
      "to answer in a helpful and precise manner to the question. \n",
      "At the beginning of the conversation, say hello to the customer.\n",
      "If you do not know the answer - say that you do not know and ask the customer to fill out the form at the https://share.hsforms.com/1rjnQzwR6SNyqRNcogAORSw3xrug?__hstc=226601154.3fb6da335f053b40ab025931f48d35a9.1708836206061.1708836206061.1708836206061.1&__hssc=226601154.18.1708836206061&__hsfp=752909049.\n",
      "If the customer think your answer not helpful - say sorry and ask the customer to fill out the form at the https://share.hsforms.com/1rjnQzwR6SNyqRNcogAORSw3xrug?__hstc=226601154.3fb6da335f053b40ab025931f48d35a9.1708836206061.1708836206061.1708836206061.1&__hssc=226601154.18.1708836206061&__hsfp=752909049.\n",
      "If the customer say bye - say good bye and ask the customer to give you a rating\n",
      "Keep your replies short, compassionate and informative.\n",
      "\n",
      "### Input: how to use Kora website\n",
      "### Response:\u001b[0m\n",
      "\n",
      "\u001b[1m> Finished chain.\u001b[0m\n",
      "\n",
      "\u001b[1m> Finished chain.\u001b[0m\n"
     ]
    }
   ],
   "source": [
    "question = \"how to use Kora website\"\n",
    "docs = db.similarity_search(question)\n",
    "answer = chain.run({\n",
    "    \"input_documents\": docs, \n",
    "    \"question\": question\n",
    "})"
   ]
  },
  {
   "cell_type": "code",
   "execution_count": 89,
   "metadata": {},
   "outputs": [
    {
     "data": {
      "text/plain": [
       "'Hello! To use the Kora website, simply visit our homepage at www.kora.com. From there, you can explore our products and services, learn more about what we offer, and even apply for KoraCash or KoraDrive. If you have any specific questions or need assistance navigating the website, feel free to ask!'"
      ]
     },
     "execution_count": 89,
     "metadata": {},
     "output_type": "execute_result"
    }
   ],
   "source": [
    "answer"
   ]
  },
  {
   "cell_type": "markdown",
   "metadata": {},
   "source": [
    "### 4. demo"
   ]
  },
  {
   "cell_type": "code",
   "execution_count": null,
   "metadata": {},
   "outputs": [],
   "source": [
    "import gradio as gr"
   ]
  },
  {
   "cell_type": "code",
   "execution_count": null,
   "metadata": {},
   "outputs": [],
   "source": [
    "memory = ConversationBufferWindowMemory(\n",
    "    memory_key='chat_history',\n",
    "    human_prefix='### Input',\n",
    "    ai_prefix=\"### Response\",\n",
    "    input_key=\"question\",\n",
    "    output_key=\"output_text\",\n",
    "    return_messages=False,\n",
    "    k=20\n",
    ")\n",
    "\n",
    "chain = load_qa_chain(\n",
    "    llm=llm,\n",
    "    chain_type='stuff',\n",
    "    prompt=prompt,\n",
    "    memory=memory,\n",
    "    verbose=True\n",
    ")\n",
    "\n",
    "with gr.Blocks() as demo:\n",
    "    chatbot = gr.Chatbot()\n",
    "    msg = gr.components.Textbox()\n",
    "    clear = gr.ClearButton([msg, chatbot])\n",
    "\n",
    "    def respond(message, chat_history):\n",
    "\n",
    "        docs = db.similarity_search(message)\n",
    "        bot_message = chain.run({\n",
    "            \"input_documents\": docs, \n",
    "            \"question\": message\n",
    "        })\n",
    "        print(bot_message)\n",
    "        chat_history.append((message, bot_message))\n",
    "        return \"\", chat_history\n",
    "    \n",
    "    msg.submit(respond, [msg, chatbot], [msg, chatbot])\n",
    "\n",
    "demo.launch(debug=True)"
   ]
  },
  {
   "cell_type": "code",
   "execution_count": null,
   "metadata": {},
   "outputs": [],
   "source": []
  }
 ],
 "metadata": {
  "kernelspec": {
   "display_name": "llm_proj",
   "language": "python",
   "name": "python3"
  },
  "language_info": {
   "codemirror_mode": {
    "name": "ipython",
    "version": 3
   },
   "file_extension": ".py",
   "mimetype": "text/x-python",
   "name": "python",
   "nbconvert_exporter": "python",
   "pygments_lexer": "ipython3",
   "version": "3.10.13"
  }
 },
 "nbformat": 4,
 "nbformat_minor": 2
}
